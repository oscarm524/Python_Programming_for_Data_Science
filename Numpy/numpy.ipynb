{
 "cells": [
  {
   "cell_type": "code",
   "execution_count": 3,
   "id": "035504ce",
   "metadata": {},
   "outputs": [
    {
     "data": {
      "text/plain": [
       "array([1, 2, 4, 5, 3])"
      ]
     },
     "execution_count": 3,
     "metadata": {},
     "output_type": "execute_result"
    }
   ],
   "source": [
    "import numpy as np\n",
    "\n",
    "## Creating array\n",
    "np.array([1, 2, 4, 5, 3])"
   ]
  },
  {
   "cell_type": "code",
   "execution_count": 2,
   "id": "cb200ad9",
   "metadata": {},
   "outputs": [
    {
     "data": {
      "text/plain": [
       "array([0., 0., 0., 0., 0.])"
      ]
     },
     "execution_count": 2,
     "metadata": {},
     "output_type": "execute_result"
    }
   ],
   "source": [
    "## Creating a 5-length array filled with zeros\n",
    "np.zeros(5)"
   ]
  },
  {
   "cell_type": "code",
   "execution_count": 4,
   "id": "a5b94c73",
   "metadata": {},
   "outputs": [
    {
     "data": {
      "text/plain": [
       "array([[1., 1., 1., 1., 1., 1.],\n",
       "       [1., 1., 1., 1., 1., 1.],\n",
       "       [1., 1., 1., 1., 1., 1.],\n",
       "       [1., 1., 1., 1., 1., 1.]])"
      ]
     },
     "execution_count": 4,
     "metadata": {},
     "output_type": "execute_result"
    }
   ],
   "source": [
    "## Creating a 4x6 array with ones\n",
    "np.ones((4, 6))"
   ]
  },
  {
   "cell_type": "code",
   "execution_count": 5,
   "id": "97e4ca09",
   "metadata": {},
   "outputs": [
    {
     "data": {
      "text/plain": [
       "array([[11.31, 11.31, 11.31, 11.31, 11.31, 11.31],\n",
       "       [11.31, 11.31, 11.31, 11.31, 11.31, 11.31],\n",
       "       [11.31, 11.31, 11.31, 11.31, 11.31, 11.31],\n",
       "       [11.31, 11.31, 11.31, 11.31, 11.31, 11.31]])"
      ]
     },
     "execution_count": 5,
     "metadata": {},
     "output_type": "execute_result"
    }
   ],
   "source": [
    "## Creating a 4x6 array filled with 11.31\n",
    "np.full((4, 6), 11.31)"
   ]
  },
  {
   "cell_type": "code",
   "execution_count": 6,
   "id": "fdc5ccbe",
   "metadata": {},
   "outputs": [
    {
     "data": {
      "text/plain": [
       "array([1. , 2.5, 4. , 5.5, 7. ])"
      ]
     },
     "execution_count": 6,
     "metadata": {},
     "output_type": "execute_result"
    }
   ],
   "source": [
    "## Creating an array with five values evenly space between 1 and 7\n",
    "np.linspace(1, 7, 5)"
   ]
  },
  {
   "cell_type": "code",
   "execution_count": 7,
   "id": "33724960",
   "metadata": {},
   "outputs": [
    {
     "data": {
      "text/plain": [
       "array([[0.88548995, 0.50176363, 0.0796704 ],\n",
       "       [0.32906098, 0.16188604, 0.0716613 ]])"
      ]
     },
     "execution_count": 7,
     "metadata": {},
     "output_type": "execute_result"
    }
   ],
   "source": [
    "## Creating a 2x3 array filled with random values from the uniform(0, 1)\n",
    "np.random.random((2, 3))"
   ]
  },
  {
   "cell_type": "code",
   "execution_count": 9,
   "id": "2bf23506",
   "metadata": {},
   "outputs": [
    {
     "data": {
      "text/plain": [
       "array([[-1.79020703,  0.86474794,  1.47379429],\n",
       "       [ 0.84475463, -0.09007823, -0.27791813]])"
      ]
     },
     "execution_count": 9,
     "metadata": {},
     "output_type": "execute_result"
    }
   ],
   "source": [
    "## Creating a 2x3 array filled with random values from the N(0, 1)\n",
    "np.random.normal(0, 1, (2, 3))"
   ]
  },
  {
   "cell_type": "code",
   "execution_count": 10,
   "id": "54f80bd5",
   "metadata": {},
   "outputs": [
    {
     "data": {
      "text/plain": [
       "array([[17, 14, 12],\n",
       "       [ 7,  8, 16]])"
      ]
     },
     "execution_count": 10,
     "metadata": {},
     "output_type": "execute_result"
    }
   ],
   "source": [
    "## Creating a 2x3 array filled with random integers from [1, 20)\n",
    "np.random.randint(1, 20, (2, 3))"
   ]
  },
  {
   "cell_type": "code",
   "execution_count": 11,
   "id": "896aff30",
   "metadata": {},
   "outputs": [
    {
     "data": {
      "text/plain": [
       "array([[1., 0., 0., 0.],\n",
       "       [0., 1., 0., 0.],\n",
       "       [0., 0., 1., 0.],\n",
       "       [0., 0., 0., 1.]])"
      ]
     },
     "execution_count": 11,
     "metadata": {},
     "output_type": "execute_result"
    }
   ],
   "source": [
    "## Creating a 4x4 identity matrix\n",
    "np.eye(4)"
   ]
  },
  {
   "cell_type": "code",
   "execution_count": null,
   "id": "54bfad0d",
   "metadata": {},
   "outputs": [],
   "source": []
  }
 ],
 "metadata": {
  "kernelspec": {
   "display_name": "conda_python3",
   "language": "python",
   "name": "conda_python3"
  },
  "language_info": {
   "codemirror_mode": {
    "name": "ipython",
    "version": 3
   },
   "file_extension": ".py",
   "mimetype": "text/x-python",
   "name": "python",
   "nbconvert_exporter": "python",
   "pygments_lexer": "ipython3",
   "version": "3.6.13"
  }
 },
 "nbformat": 4,
 "nbformat_minor": 5
}
