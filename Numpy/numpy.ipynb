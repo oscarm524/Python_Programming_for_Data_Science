{
 "cells": [
  {
   "cell_type": "markdown",
   "id": "08864690",
   "metadata": {},
   "source": [
    "# Creating Arrays with Numpy"
   ]
  },
  {
   "cell_type": "code",
   "execution_count": 3,
   "id": "f3946047",
   "metadata": {},
   "outputs": [
    {
     "data": {
      "text/plain": [
       "array([1, 2, 4, 5, 3])"
      ]
     },
     "execution_count": 3,
     "metadata": {},
     "output_type": "execute_result"
    }
   ],
   "source": [
    "import numpy as np\n",
    "\n",
    "## Creating an array\n",
    "np.array([1, 2, 4, 5, 3])"
   ]
  },
  {
   "cell_type": "code",
   "execution_count": 2,
   "id": "5a01cb43",
   "metadata": {},
   "outputs": [
    {
     "data": {
      "text/plain": [
       "array([0., 0., 0., 0., 0.])"
      ]
     },
     "execution_count": 2,
     "metadata": {},
     "output_type": "execute_result"
    }
   ],
   "source": [
    "## Creating a 5-length array filled with zeros\n",
    "np.zeros(5)"
   ]
  },
  {
   "cell_type": "code",
   "execution_count": 4,
   "id": "4d21606c",
   "metadata": {},
   "outputs": [
    {
     "data": {
      "text/plain": [
       "array([[1., 1., 1., 1., 1., 1.],\n",
       "       [1., 1., 1., 1., 1., 1.],\n",
       "       [1., 1., 1., 1., 1., 1.],\n",
       "       [1., 1., 1., 1., 1., 1.]])"
      ]
     },
     "execution_count": 4,
     "metadata": {},
     "output_type": "execute_result"
    }
   ],
   "source": [
    "## Creating a 4x6 array with ones\n",
    "np.ones((4, 6))"
   ]
  },
  {
   "cell_type": "code",
   "execution_count": 5,
   "id": "b22e516e",
   "metadata": {},
   "outputs": [
    {
     "data": {
      "text/plain": [
       "array([[11.31, 11.31, 11.31, 11.31, 11.31, 11.31],\n",
       "       [11.31, 11.31, 11.31, 11.31, 11.31, 11.31],\n",
       "       [11.31, 11.31, 11.31, 11.31, 11.31, 11.31],\n",
       "       [11.31, 11.31, 11.31, 11.31, 11.31, 11.31]])"
      ]
     },
     "execution_count": 5,
     "metadata": {},
     "output_type": "execute_result"
    }
   ],
   "source": [
    "## Creating a 4x6 array filled with 11.31\n",
    "np.full((4, 6), 11.31)"
   ]
  },
  {
   "cell_type": "code",
   "execution_count": 6,
   "id": "66da69df",
   "metadata": {},
   "outputs": [
    {
     "data": {
      "text/plain": [
       "array([1. , 2.5, 4. , 5.5, 7. ])"
      ]
     },
     "execution_count": 6,
     "metadata": {},
     "output_type": "execute_result"
    }
   ],
   "source": [
    "## Creating an array with five values evenly space between 1 and 7\n",
    "np.linspace(1, 7, 5)"
   ]
  },
  {
   "cell_type": "code",
   "execution_count": 7,
   "id": "09db94ac",
   "metadata": {},
   "outputs": [
    {
     "data": {
      "text/plain": [
       "array([[0.88548995, 0.50176363, 0.0796704 ],\n",
       "       [0.32906098, 0.16188604, 0.0716613 ]])"
      ]
     },
     "execution_count": 7,
     "metadata": {},
     "output_type": "execute_result"
    }
   ],
   "source": [
    "## Creating a 2x3 array filled with random values from the uniform(0, 1)\n",
    "np.random.random((2, 3))"
   ]
  },
  {
   "cell_type": "code",
   "execution_count": 9,
   "id": "36a0e23a",
   "metadata": {},
   "outputs": [
    {
     "data": {
      "text/plain": [
       "array([[-1.79020703,  0.86474794,  1.47379429],\n",
       "       [ 0.84475463, -0.09007823, -0.27791813]])"
      ]
     },
     "execution_count": 9,
     "metadata": {},
     "output_type": "execute_result"
    }
   ],
   "source": [
    "## Creating a 2x3 array filled with random values from the N(0, 1)\n",
    "np.random.normal(0, 1, (2, 3))"
   ]
  },
  {
   "cell_type": "code",
   "execution_count": 10,
   "id": "43112a39",
   "metadata": {},
   "outputs": [
    {
     "data": {
      "text/plain": [
       "array([[17, 14, 12],\n",
       "       [ 7,  8, 16]])"
      ]
     },
     "execution_count": 10,
     "metadata": {},
     "output_type": "execute_result"
    }
   ],
   "source": [
    "## Creating a 2x3 array filled with random integers from [1, 20)\n",
    "np.random.randint(1, 20, (2, 3))"
   ]
  },
  {
   "cell_type": "code",
   "execution_count": 11,
   "id": "f47dd642",
   "metadata": {},
   "outputs": [
    {
     "data": {
      "text/plain": [
       "array([[1., 0., 0., 0.],\n",
       "       [0., 1., 0., 0.],\n",
       "       [0., 0., 1., 0.],\n",
       "       [0., 0., 0., 1.]])"
      ]
     },
     "execution_count": 11,
     "metadata": {},
     "output_type": "execute_result"
    }
   ],
   "source": [
    "## Creating a 4x4 identity matrix\n",
    "np.eye(4)"
   ]
  },
  {
   "cell_type": "markdown",
   "id": "b61344fd",
   "metadata": {},
   "source": [
    "# Numpy Array Attributes"
   ]
  },
  {
   "cell_type": "code",
   "execution_count": 12,
   "id": "f4c563b6",
   "metadata": {},
   "outputs": [
    {
     "data": {
      "text/plain": [
       "2"
      ]
     },
     "execution_count": 12,
     "metadata": {},
     "output_type": "execute_result"
    }
   ],
   "source": [
    "x = np.random.randint(1, 20, (5, 3))\n",
    "x.ndim"
   ]
  },
  {
   "cell_type": "code",
   "execution_count": 13,
   "id": "590a5f36",
   "metadata": {},
   "outputs": [
    {
     "data": {
      "text/plain": [
       "(5, 3)"
      ]
     },
     "execution_count": 13,
     "metadata": {},
     "output_type": "execute_result"
    }
   ],
   "source": [
    "x.shape"
   ]
  },
  {
   "cell_type": "code",
   "execution_count": 14,
   "id": "d2228488",
   "metadata": {},
   "outputs": [
    {
     "data": {
      "text/plain": [
       "15"
      ]
     },
     "execution_count": 14,
     "metadata": {},
     "output_type": "execute_result"
    }
   ],
   "source": [
    "x.size"
   ]
  },
  {
   "cell_type": "markdown",
   "id": "3efd91e6",
   "metadata": {},
   "source": [
    "# Array Indexing: Accessing Single Elements"
   ]
  },
  {
   "cell_type": "code",
   "execution_count": 15,
   "id": "e4e433c9",
   "metadata": {},
   "outputs": [
    {
     "data": {
      "text/plain": [
       "1"
      ]
     },
     "execution_count": 15,
     "metadata": {},
     "output_type": "execute_result"
    }
   ],
   "source": [
    "x = np.array([1, 2, 4, 5, 3])\n",
    "\n",
    "## accessing the first array element\n",
    "x[0]"
   ]
  },
  {
   "cell_type": "code",
   "execution_count": 16,
   "id": "382ed2e1",
   "metadata": {},
   "outputs": [
    {
     "data": {
      "text/plain": [
       "4"
      ]
     },
     "execution_count": 16,
     "metadata": {},
     "output_type": "execute_result"
    }
   ],
   "source": [
    "## accessing the third element\n",
    "x[2]"
   ]
  },
  {
   "cell_type": "code",
   "execution_count": 17,
   "id": "8d42687a",
   "metadata": {},
   "outputs": [
    {
     "data": {
      "text/plain": [
       "3"
      ]
     },
     "execution_count": 17,
     "metadata": {},
     "output_type": "execute_result"
    }
   ],
   "source": [
    "## accessing the last element \n",
    "x[-1]"
   ]
  },
  {
   "cell_type": "code",
   "execution_count": 22,
   "id": "b7b3810c",
   "metadata": {},
   "outputs": [
    {
     "data": {
      "text/plain": [
       "array([[10,  3, 18],\n",
       "       [ 9, 17, 10]])"
      ]
     },
     "execution_count": 22,
     "metadata": {},
     "output_type": "execute_result"
    }
   ],
   "source": [
    "y = np.random.randint(1, 20, (2, 3))\n",
    "y"
   ]
  },
  {
   "cell_type": "code",
   "execution_count": 23,
   "id": "61c3136e",
   "metadata": {},
   "outputs": [
    {
     "data": {
      "text/plain": [
       "10"
      ]
     },
     "execution_count": 23,
     "metadata": {},
     "output_type": "execute_result"
    }
   ],
   "source": [
    "## accessing the (1, 1) element\n",
    "y[0, 0]"
   ]
  },
  {
   "cell_type": "code",
   "execution_count": 25,
   "id": "35cfcf67",
   "metadata": {},
   "outputs": [
    {
     "data": {
      "text/plain": [
       "10"
      ]
     },
     "execution_count": 25,
     "metadata": {},
     "output_type": "execute_result"
    }
   ],
   "source": [
    "## accessing the (2, 3) element\n",
    "y[1, 2]"
   ]
  },
  {
   "cell_type": "markdown",
   "id": "1bb5533d",
   "metadata": {},
   "source": [
    "# Array Slicing: Accessing Subarrays"
   ]
  },
  {
   "cell_type": "code",
   "execution_count": 26,
   "id": "b3168e55",
   "metadata": {},
   "outputs": [
    {
     "data": {
      "text/plain": [
       "array([1, 2, 4])"
      ]
     },
     "execution_count": 26,
     "metadata": {},
     "output_type": "execute_result"
    }
   ],
   "source": [
    "x = np.array([1, 2, 4, 5, 3])\n",
    "\n",
    "## accessing the first three elements\n",
    "x[:3]"
   ]
  },
  {
   "cell_type": "code",
   "execution_count": 27,
   "id": "9464682e",
   "metadata": {},
   "outputs": [
    {
     "data": {
      "text/plain": [
       "array([5, 3])"
      ]
     },
     "execution_count": 27,
     "metadata": {},
     "output_type": "execute_result"
    }
   ],
   "source": [
    "## accessing after third index\n",
    "x[3:]"
   ]
  },
  {
   "cell_type": "code",
   "execution_count": 28,
   "id": "3812c9cd",
   "metadata": {},
   "outputs": [
    {
     "data": {
      "text/plain": [
       "array([4, 5])"
      ]
     },
     "execution_count": 28,
     "metadata": {},
     "output_type": "execute_result"
    }
   ],
   "source": [
    "## accessing the middle sub-array\n",
    "x[2:4]"
   ]
  },
  {
   "cell_type": "code",
   "execution_count": 29,
   "id": "25ef19ed",
   "metadata": {},
   "outputs": [
    {
     "data": {
      "text/plain": [
       "array([1, 4, 3])"
      ]
     },
     "execution_count": 29,
     "metadata": {},
     "output_type": "execute_result"
    }
   ],
   "source": [
    "## accessing every other element\n",
    "x[::2]"
   ]
  },
  {
   "cell_type": "code",
   "execution_count": 30,
   "id": "77a45681",
   "metadata": {},
   "outputs": [
    {
     "data": {
      "text/plain": [
       "array([2, 5])"
      ]
     },
     "execution_count": 30,
     "metadata": {},
     "output_type": "execute_result"
    }
   ],
   "source": [
    "## accessing every other element, starting at index 1\n",
    "x[1::2]"
   ]
  },
  {
   "cell_type": "code",
   "execution_count": 31,
   "id": "0904616d",
   "metadata": {},
   "outputs": [
    {
     "data": {
      "text/plain": [
       "array([3, 5, 4, 2, 1])"
      ]
     },
     "execution_count": 31,
     "metadata": {},
     "output_type": "execute_result"
    }
   ],
   "source": [
    "## all elements reversed\n",
    "x[::-1]"
   ]
  },
  {
   "cell_type": "code",
   "execution_count": 32,
   "id": "c6347546",
   "metadata": {},
   "outputs": [
    {
     "data": {
      "text/plain": [
       "array([3, 4, 1])"
      ]
     },
     "execution_count": 32,
     "metadata": {},
     "output_type": "execute_result"
    }
   ],
   "source": [
    "## reversed every other elements, starting at index 5\n",
    "x[5::-2]"
   ]
  },
  {
   "cell_type": "code",
   "execution_count": 33,
   "id": "7a8412e2",
   "metadata": {},
   "outputs": [
    {
     "data": {
      "text/plain": [
       "array([[ 1, 10, 14],\n",
       "       [12,  4, 12]])"
      ]
     },
     "execution_count": 33,
     "metadata": {},
     "output_type": "execute_result"
    }
   ],
   "source": [
    "y = np.random.randint(1, 20, (3, 4))\n",
    "y"
   ]
  },
  {
   "cell_type": "code",
   "execution_count": 36,
   "id": "297d9f4b",
   "metadata": {},
   "outputs": [
    {
     "data": {
      "text/plain": [
       "array([ 1, 12])"
      ]
     },
     "execution_count": 36,
     "metadata": {},
     "output_type": "execute_result"
    }
   ],
   "source": [
    "## accessing the first column \n",
    "y[:, 0]"
   ]
  },
  {
   "cell_type": "code",
   "execution_count": 37,
   "id": "778bbb25",
   "metadata": {},
   "outputs": [
    {
     "data": {
      "text/plain": [
       "array([ 1, 10, 14])"
      ]
     },
     "execution_count": 37,
     "metadata": {},
     "output_type": "execute_result"
    }
   ],
   "source": [
    "## accessing the first row\n",
    "y[0, :]"
   ]
  },
  {
   "cell_type": "code",
   "execution_count": 35,
   "id": "50c6e187",
   "metadata": {},
   "outputs": [
    {
     "data": {
      "text/plain": [
       "array([[ 1, 10],\n",
       "       [12,  4]])"
      ]
     },
     "execution_count": 35,
     "metadata": {},
     "output_type": "execute_result"
    }
   ],
   "source": [
    "## accessing the first two rows, and the first two columns\n",
    "y[:2, :2]"
   ]
  },
  {
   "cell_type": "markdown",
   "id": "bf8056da",
   "metadata": {},
   "source": [
    "# Reshaping Arrays "
   ]
  },
  {
   "cell_type": "code",
   "execution_count": 38,
   "id": "e4e76a0d",
   "metadata": {},
   "outputs": [
    {
     "data": {
      "text/plain": [
       "array([1, 2, 3])"
      ]
     },
     "execution_count": 38,
     "metadata": {},
     "output_type": "execute_result"
    }
   ],
   "source": [
    "x = np.array([1, 2, 3])\n",
    "x"
   ]
  },
  {
   "cell_type": "code",
   "execution_count": 42,
   "id": "c44b3ae0",
   "metadata": {},
   "outputs": [
    {
     "data": {
      "text/plain": [
       "array([[1, 2, 3]])"
      ]
     },
     "execution_count": 42,
     "metadata": {},
     "output_type": "execute_result"
    }
   ],
   "source": [
    "## row reshape\n",
    "x = x.reshape((1, 3))\n",
    "x"
   ]
  },
  {
   "cell_type": "code",
   "execution_count": 43,
   "id": "ef2c2968",
   "metadata": {},
   "outputs": [
    {
     "data": {
      "text/plain": [
       "array([[1],\n",
       "       [2],\n",
       "       [3]])"
      ]
     },
     "execution_count": 43,
     "metadata": {},
     "output_type": "execute_result"
    }
   ],
   "source": [
    "## columns reshape\n",
    "x = x.reshape((3, 1))\n",
    "x"
   ]
  },
  {
   "cell_type": "markdown",
   "id": "60d181b2",
   "metadata": {},
   "source": [
    "# Concatenation and Splitting"
   ]
  },
  {
   "cell_type": "code",
   "execution_count": null,
   "id": "8a7fd5ed",
   "metadata": {},
   "outputs": [],
   "source": []
  }
 ],
 "metadata": {
  "kernelspec": {
   "display_name": "conda_python3",
   "language": "python",
   "name": "conda_python3"
  },
  "language_info": {
   "codemirror_mode": {
    "name": "ipython",
    "version": 3
   },
   "file_extension": ".py",
   "mimetype": "text/x-python",
   "name": "python",
   "nbconvert_exporter": "python",
   "pygments_lexer": "ipython3",
   "version": "3.6.13"
  }
 },
 "nbformat": 4,
 "nbformat_minor": 5
}
