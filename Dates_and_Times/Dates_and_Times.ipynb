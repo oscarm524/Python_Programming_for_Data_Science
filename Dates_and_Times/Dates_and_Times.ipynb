{
 "cells": [
  {
   "cell_type": "code",
   "execution_count": 2,
   "id": "0a8d3787",
   "metadata": {},
   "outputs": [],
   "source": [
    "import pandas as pd\n",
    "import numpy as np"
   ]
  },
  {
   "cell_type": "markdown",
   "id": "6031973d",
   "metadata": {},
   "source": [
    "# Converting Strings to Dates"
   ]
  },
  {
   "cell_type": "code",
   "execution_count": 3,
   "id": "84480dec",
   "metadata": {},
   "outputs": [
    {
     "data": {
      "text/plain": [
       "DatetimeIndex(['2005-03-13 23:35:00'], dtype='datetime64[ns]', freq=None)"
      ]
     },
     "execution_count": 3,
     "metadata": {},
     "output_type": "execute_result"
    }
   ],
   "source": [
    "## Creating strings\n",
    "date_strings = np.array(['13-03-2005 11:35 PM'])\n",
    "\n",
    "## Converting to datetimes\n",
    "pd.to_datetime(date_strings, format = '%d-%m-%Y %I:%M %p')"
   ]
  },
  {
   "cell_type": "markdown",
   "id": "73dbb7fd",
   "metadata": {},
   "source": [
    "# Handling Time Zones"
   ]
  },
  {
   "cell_type": "code",
   "execution_count": null,
   "id": "60a098b7",
   "metadata": {},
   "outputs": [],
   "source": []
  }
 ],
 "metadata": {
  "kernelspec": {
   "display_name": "conda_python3",
   "language": "python",
   "name": "conda_python3"
  },
  "language_info": {
   "codemirror_mode": {
    "name": "ipython",
    "version": 3
   },
   "file_extension": ".py",
   "mimetype": "text/x-python",
   "name": "python",
   "nbconvert_exporter": "python",
   "pygments_lexer": "ipython3",
   "version": "3.6.13"
  }
 },
 "nbformat": 4,
 "nbformat_minor": 5
}
