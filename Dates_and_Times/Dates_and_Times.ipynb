{
 "cells": [
  {
   "cell_type": "code",
   "execution_count": 1,
   "id": "64f4d244",
   "metadata": {},
   "outputs": [],
   "source": [
    "import pandas as pd\n",
    "import numpy as np"
   ]
  },
  {
   "cell_type": "markdown",
   "id": "98a7a221",
   "metadata": {},
   "source": [
    "# Converting Strings to Dates"
   ]
  },
  {
   "cell_type": "code",
   "execution_count": 2,
   "id": "a5f75af5",
   "metadata": {},
   "outputs": [
    {
     "data": {
      "text/plain": [
       "DatetimeIndex(['2005-03-13 23:35:00'], dtype='datetime64[ns]', freq=None)"
      ]
     },
     "execution_count": 2,
     "metadata": {},
     "output_type": "execute_result"
    }
   ],
   "source": [
    "## Creating strings\n",
    "date_strings = np.array(['13-03-2005 11:35 PM'])\n",
    "\n",
    "## Converting to datetimes\n",
    "pd.to_datetime(date_strings, format = '%d-%m-%Y %I:%M %p')"
   ]
  },
  {
   "cell_type": "markdown",
   "id": "d45ff48c",
   "metadata": {},
   "source": [
    "# Handling Time Zones"
   ]
  },
  {
   "cell_type": "code",
   "execution_count": 3,
   "id": "d77675de",
   "metadata": {},
   "outputs": [
    {
     "data": {
      "text/plain": [
       "Timestamp('2018-05-24 01:01:01+0100', tz='Europe/London')"
      ]
     },
     "execution_count": 3,
     "metadata": {},
     "output_type": "execute_result"
    }
   ],
   "source": [
    "## Creating time in London\n",
    "pd.Timestamp('2018-05-24 01:01:01', tz = 'Europe/London')"
   ]
  },
  {
   "cell_type": "markdown",
   "id": "fe0a4db8",
   "metadata": {},
   "source": [
    "# Selecting Dates "
   ]
  },
  {
   "cell_type": "code",
   "execution_count": 4,
   "id": "a377ab17",
   "metadata": {},
   "outputs": [
    {
     "data": {
      "text/html": [
       "<div>\n",
       "<style scoped>\n",
       "    .dataframe tbody tr th:only-of-type {\n",
       "        vertical-align: middle;\n",
       "    }\n",
       "\n",
       "    .dataframe tbody tr th {\n",
       "        vertical-align: top;\n",
       "    }\n",
       "\n",
       "    .dataframe thead th {\n",
       "        text-align: right;\n",
       "    }\n",
       "</style>\n",
       "<table border=\"1\" class=\"dataframe\">\n",
       "  <thead>\n",
       "    <tr style=\"text-align: right;\">\n",
       "      <th></th>\n",
       "      <th>Date</th>\n",
       "    </tr>\n",
       "  </thead>\n",
       "  <tbody>\n",
       "    <tr>\n",
       "      <th>0</th>\n",
       "      <td>2001-01-01</td>\n",
       "    </tr>\n",
       "    <tr>\n",
       "      <th>1</th>\n",
       "      <td>2001-01-02</td>\n",
       "    </tr>\n",
       "    <tr>\n",
       "      <th>2</th>\n",
       "      <td>2001-01-03</td>\n",
       "    </tr>\n",
       "    <tr>\n",
       "      <th>3</th>\n",
       "      <td>2001-01-04</td>\n",
       "    </tr>\n",
       "    <tr>\n",
       "      <th>4</th>\n",
       "      <td>2001-01-05</td>\n",
       "    </tr>\n",
       "    <tr>\n",
       "      <th>...</th>\n",
       "      <td>...</td>\n",
       "    </tr>\n",
       "    <tr>\n",
       "      <th>95</th>\n",
       "      <td>2001-04-06</td>\n",
       "    </tr>\n",
       "    <tr>\n",
       "      <th>96</th>\n",
       "      <td>2001-04-07</td>\n",
       "    </tr>\n",
       "    <tr>\n",
       "      <th>97</th>\n",
       "      <td>2001-04-08</td>\n",
       "    </tr>\n",
       "    <tr>\n",
       "      <th>98</th>\n",
       "      <td>2001-04-09</td>\n",
       "    </tr>\n",
       "    <tr>\n",
       "      <th>99</th>\n",
       "      <td>2001-04-10</td>\n",
       "    </tr>\n",
       "  </tbody>\n",
       "</table>\n",
       "<p>100 rows × 1 columns</p>\n",
       "</div>"
      ],
      "text/plain": [
       "         Date\n",
       "0  2001-01-01\n",
       "1  2001-01-02\n",
       "2  2001-01-03\n",
       "3  2001-01-04\n",
       "4  2001-01-05\n",
       "..        ...\n",
       "95 2001-04-06\n",
       "96 2001-04-07\n",
       "97 2001-04-08\n",
       "98 2001-04-09\n",
       "99 2001-04-10\n",
       "\n",
       "[100 rows x 1 columns]"
      ]
     },
     "execution_count": 4,
     "metadata": {},
     "output_type": "execute_result"
    }
   ],
   "source": [
    "## Creating a data-frame\n",
    "data = pd.DataFrame({'Date': pd.date_range('1/1/2001', periods = 100)})\n",
    "data"
   ]
  },
  {
   "cell_type": "code",
   "execution_count": 5,
   "id": "3a2e7469",
   "metadata": {},
   "outputs": [
    {
     "data": {
      "text/html": [
       "<div>\n",
       "<style scoped>\n",
       "    .dataframe tbody tr th:only-of-type {\n",
       "        vertical-align: middle;\n",
       "    }\n",
       "\n",
       "    .dataframe tbody tr th {\n",
       "        vertical-align: top;\n",
       "    }\n",
       "\n",
       "    .dataframe thead th {\n",
       "        text-align: right;\n",
       "    }\n",
       "</style>\n",
       "<table border=\"1\" class=\"dataframe\">\n",
       "  <thead>\n",
       "    <tr style=\"text-align: right;\">\n",
       "      <th></th>\n",
       "      <th>Date</th>\n",
       "    </tr>\n",
       "  </thead>\n",
       "  <tbody>\n",
       "    <tr>\n",
       "      <th>2</th>\n",
       "      <td>2001-01-03</td>\n",
       "    </tr>\n",
       "    <tr>\n",
       "      <th>3</th>\n",
       "      <td>2001-01-04</td>\n",
       "    </tr>\n",
       "    <tr>\n",
       "      <th>4</th>\n",
       "      <td>2001-01-05</td>\n",
       "    </tr>\n",
       "    <tr>\n",
       "      <th>5</th>\n",
       "      <td>2001-01-06</td>\n",
       "    </tr>\n",
       "    <tr>\n",
       "      <th>6</th>\n",
       "      <td>2001-01-07</td>\n",
       "    </tr>\n",
       "    <tr>\n",
       "      <th>...</th>\n",
       "      <td>...</td>\n",
       "    </tr>\n",
       "    <tr>\n",
       "      <th>74</th>\n",
       "      <td>2001-03-16</td>\n",
       "    </tr>\n",
       "    <tr>\n",
       "      <th>75</th>\n",
       "      <td>2001-03-17</td>\n",
       "    </tr>\n",
       "    <tr>\n",
       "      <th>76</th>\n",
       "      <td>2001-03-18</td>\n",
       "    </tr>\n",
       "    <tr>\n",
       "      <th>77</th>\n",
       "      <td>2001-03-19</td>\n",
       "    </tr>\n",
       "    <tr>\n",
       "      <th>78</th>\n",
       "      <td>2001-03-20</td>\n",
       "    </tr>\n",
       "  </tbody>\n",
       "</table>\n",
       "<p>77 rows × 1 columns</p>\n",
       "</div>"
      ],
      "text/plain": [
       "         Date\n",
       "2  2001-01-03\n",
       "3  2001-01-04\n",
       "4  2001-01-05\n",
       "5  2001-01-06\n",
       "6  2001-01-07\n",
       "..        ...\n",
       "74 2001-03-16\n",
       "75 2001-03-17\n",
       "76 2001-03-18\n",
       "77 2001-03-19\n",
       "78 2001-03-20\n",
       "\n",
       "[77 rows x 1 columns]"
      ]
     },
     "execution_count": 5,
     "metadata": {},
     "output_type": "execute_result"
    }
   ],
   "source": [
    "## Selecting dates between two date-times\n",
    "data[(data['Date'] > '2001-01-02') & (data['Date'] < '2001-03-21')]"
   ]
  },
  {
   "cell_type": "markdown",
   "id": "5ff18af7",
   "metadata": {},
   "source": [
    "# Breaking Up Date into Multiple Features"
   ]
  },
  {
   "cell_type": "code",
   "execution_count": 6,
   "id": "8102ff5b",
   "metadata": {},
   "outputs": [
    {
     "data": {
      "text/plain": [
       "0     2001\n",
       "1     2001\n",
       "2     2001\n",
       "3     2001\n",
       "4     2001\n",
       "      ... \n",
       "95    2001\n",
       "96    2001\n",
       "97    2001\n",
       "98    2001\n",
       "99    2001\n",
       "Name: Date, Length: 100, dtype: int64"
      ]
     },
     "execution_count": 6,
     "metadata": {},
     "output_type": "execute_result"
    }
   ],
   "source": [
    "## Extracting year\n",
    "data['Date'].dt.year"
   ]
  },
  {
   "cell_type": "code",
   "execution_count": 7,
   "id": "7196dc2d",
   "metadata": {},
   "outputs": [
    {
     "data": {
      "text/plain": [
       "0     1\n",
       "1     1\n",
       "2     1\n",
       "3     1\n",
       "4     1\n",
       "     ..\n",
       "95    4\n",
       "96    4\n",
       "97    4\n",
       "98    4\n",
       "99    4\n",
       "Name: Date, Length: 100, dtype: int64"
      ]
     },
     "execution_count": 7,
     "metadata": {},
     "output_type": "execute_result"
    }
   ],
   "source": [
    "## Extracting month\n",
    "data['Date'].dt.month"
   ]
  },
  {
   "cell_type": "code",
   "execution_count": 8,
   "id": "90be8010",
   "metadata": {},
   "outputs": [
    {
     "data": {
      "text/plain": [
       "0      1\n",
       "1      2\n",
       "2      3\n",
       "3      4\n",
       "4      5\n",
       "      ..\n",
       "95     6\n",
       "96     7\n",
       "97     8\n",
       "98     9\n",
       "99    10\n",
       "Name: Date, Length: 100, dtype: int64"
      ]
     },
     "execution_count": 8,
     "metadata": {},
     "output_type": "execute_result"
    }
   ],
   "source": [
    "## Extracting day\n",
    "data['Date'].dt.day"
   ]
  },
  {
   "cell_type": "code",
   "execution_count": 9,
   "id": "7e12f382",
   "metadata": {},
   "outputs": [
    {
     "data": {
      "text/plain": [
       "0     0\n",
       "1     0\n",
       "2     0\n",
       "3     0\n",
       "4     0\n",
       "     ..\n",
       "95    0\n",
       "96    0\n",
       "97    0\n",
       "98    0\n",
       "99    0\n",
       "Name: Date, Length: 100, dtype: int64"
      ]
     },
     "execution_count": 9,
     "metadata": {},
     "output_type": "execute_result"
    }
   ],
   "source": [
    "## Extracting hour\n",
    "data['Date'].dt.hour"
   ]
  },
  {
   "cell_type": "code",
   "execution_count": 10,
   "id": "3022c37a",
   "metadata": {},
   "outputs": [
    {
     "data": {
      "text/plain": [
       "0     0\n",
       "1     0\n",
       "2     0\n",
       "3     0\n",
       "4     0\n",
       "     ..\n",
       "95    0\n",
       "96    0\n",
       "97    0\n",
       "98    0\n",
       "99    0\n",
       "Name: Date, Length: 100, dtype: int64"
      ]
     },
     "execution_count": 10,
     "metadata": {},
     "output_type": "execute_result"
    }
   ],
   "source": [
    "## Extracting minute\n",
    "data['Date'].dt.minute"
   ]
  },
  {
   "cell_type": "markdown",
   "id": "318f8e2f",
   "metadata": {},
   "source": [
    "# Calculating the Difference Between Dates"
   ]
  },
  {
   "cell_type": "code",
   "execution_count": 11,
   "id": "c6a77599",
   "metadata": {},
   "outputs": [
    {
     "data": {
      "text/plain": [
       "5"
      ]
     },
     "execution_count": 11,
     "metadata": {},
     "output_type": "execute_result"
    }
   ],
   "source": [
    "## Creating two dates\n",
    "date_1 = pd.Timestamp('01-01-2017')\n",
    "date_2 = pd.Timestamp('01-06-2017')\n",
    "\n",
    "## Taking the difference between the two dates\n",
    "(date_2 - date_1).days"
   ]
  },
  {
   "cell_type": "markdown",
   "id": "551cbc0a",
   "metadata": {},
   "source": [
    "# Econding Days of the Week"
   ]
  },
  {
   "cell_type": "code",
   "execution_count": 12,
   "id": "d85c4693",
   "metadata": {},
   "outputs": [
    {
     "data": {
      "text/plain": [
       "0        Monday\n",
       "1       Tuesday\n",
       "2     Wednesday\n",
       "3      Thursday\n",
       "4        Friday\n",
       "        ...    \n",
       "95       Friday\n",
       "96     Saturday\n",
       "97       Sunday\n",
       "98       Monday\n",
       "99      Tuesday\n",
       "Name: Date, Length: 100, dtype: object"
      ]
     },
     "execution_count": 12,
     "metadata": {},
     "output_type": "execute_result"
    }
   ],
   "source": [
    "## Extracting name of the day\n",
    "data['Date'].dt.day_name()"
   ]
  },
  {
   "cell_type": "markdown",
   "id": "1e093387",
   "metadata": {},
   "source": [
    "# Creating a Lagged Feature"
   ]
  },
  {
   "cell_type": "code",
   "execution_count": 13,
   "id": "a7bef566",
   "metadata": {},
   "outputs": [
    {
     "data": {
      "text/html": [
       "<div>\n",
       "<style scoped>\n",
       "    .dataframe tbody tr th:only-of-type {\n",
       "        vertical-align: middle;\n",
       "    }\n",
       "\n",
       "    .dataframe tbody tr th {\n",
       "        vertical-align: top;\n",
       "    }\n",
       "\n",
       "    .dataframe thead th {\n",
       "        text-align: right;\n",
       "    }\n",
       "</style>\n",
       "<table border=\"1\" class=\"dataframe\">\n",
       "  <thead>\n",
       "    <tr style=\"text-align: right;\">\n",
       "      <th></th>\n",
       "      <th>Date</th>\n",
       "      <th>Stock_Price</th>\n",
       "    </tr>\n",
       "  </thead>\n",
       "  <tbody>\n",
       "    <tr>\n",
       "      <th>0</th>\n",
       "      <td>2001-01-01</td>\n",
       "      <td>0.113007</td>\n",
       "    </tr>\n",
       "    <tr>\n",
       "      <th>1</th>\n",
       "      <td>2001-01-02</td>\n",
       "      <td>-0.306491</td>\n",
       "    </tr>\n",
       "    <tr>\n",
       "      <th>2</th>\n",
       "      <td>2001-01-03</td>\n",
       "      <td>-1.935586</td>\n",
       "    </tr>\n",
       "    <tr>\n",
       "      <th>3</th>\n",
       "      <td>2001-01-04</td>\n",
       "      <td>0.936163</td>\n",
       "    </tr>\n",
       "    <tr>\n",
       "      <th>4</th>\n",
       "      <td>2001-01-05</td>\n",
       "      <td>-0.468973</td>\n",
       "    </tr>\n",
       "  </tbody>\n",
       "</table>\n",
       "</div>"
      ],
      "text/plain": [
       "        Date  Stock_Price\n",
       "0 2001-01-01     0.113007\n",
       "1 2001-01-02    -0.306491\n",
       "2 2001-01-03    -1.935586\n",
       "3 2001-01-04     0.936163\n",
       "4 2001-01-05    -0.468973"
      ]
     },
     "execution_count": 13,
     "metadata": {},
     "output_type": "execute_result"
    }
   ],
   "source": [
    "## Adding synthetic stock prices (from normal distribution)\n",
    "data['Stock_Price'] = np.random.normal(0, 1, data.shape[0])\n",
    "data.head()"
   ]
  },
  {
   "cell_type": "code",
   "execution_count": 14,
   "id": "a75053f3",
   "metadata": {},
   "outputs": [
    {
     "data": {
      "text/html": [
       "<div>\n",
       "<style scoped>\n",
       "    .dataframe tbody tr th:only-of-type {\n",
       "        vertical-align: middle;\n",
       "    }\n",
       "\n",
       "    .dataframe tbody tr th {\n",
       "        vertical-align: top;\n",
       "    }\n",
       "\n",
       "    .dataframe thead th {\n",
       "        text-align: right;\n",
       "    }\n",
       "</style>\n",
       "<table border=\"1\" class=\"dataframe\">\n",
       "  <thead>\n",
       "    <tr style=\"text-align: right;\">\n",
       "      <th></th>\n",
       "      <th>Date</th>\n",
       "      <th>Stock_Price</th>\n",
       "      <th>Previous_Stock_Price</th>\n",
       "    </tr>\n",
       "  </thead>\n",
       "  <tbody>\n",
       "    <tr>\n",
       "      <th>0</th>\n",
       "      <td>2001-01-01</td>\n",
       "      <td>0.113007</td>\n",
       "      <td>NaN</td>\n",
       "    </tr>\n",
       "    <tr>\n",
       "      <th>1</th>\n",
       "      <td>2001-01-02</td>\n",
       "      <td>-0.306491</td>\n",
       "      <td>0.113007</td>\n",
       "    </tr>\n",
       "    <tr>\n",
       "      <th>2</th>\n",
       "      <td>2001-01-03</td>\n",
       "      <td>-1.935586</td>\n",
       "      <td>-0.306491</td>\n",
       "    </tr>\n",
       "    <tr>\n",
       "      <th>3</th>\n",
       "      <td>2001-01-04</td>\n",
       "      <td>0.936163</td>\n",
       "      <td>-1.935586</td>\n",
       "    </tr>\n",
       "    <tr>\n",
       "      <th>4</th>\n",
       "      <td>2001-01-05</td>\n",
       "      <td>-0.468973</td>\n",
       "      <td>0.936163</td>\n",
       "    </tr>\n",
       "  </tbody>\n",
       "</table>\n",
       "</div>"
      ],
      "text/plain": [
       "        Date  Stock_Price  Previous_Stock_Price\n",
       "0 2001-01-01     0.113007                   NaN\n",
       "1 2001-01-02    -0.306491              0.113007\n",
       "2 2001-01-03    -1.935586             -0.306491\n",
       "3 2001-01-04     0.936163             -1.935586\n",
       "4 2001-01-05    -0.468973              0.936163"
      ]
     },
     "execution_count": 14,
     "metadata": {},
     "output_type": "execute_result"
    }
   ],
   "source": [
    "## Adding lagged values by one row\n",
    "data['Previous_Stock_Price'] = data['Stock_Price'].shift(1)\n",
    "data.head()"
   ]
  },
  {
   "cell_type": "markdown",
   "id": "d0adad1d",
   "metadata": {},
   "source": [
    "# Using Rolling Time Windows"
   ]
  },
  {
   "cell_type": "code",
   "execution_count": 15,
   "id": "5ee62d5c",
   "metadata": {},
   "outputs": [
    {
     "data": {
      "text/html": [
       "<div>\n",
       "<style scoped>\n",
       "    .dataframe tbody tr th:only-of-type {\n",
       "        vertical-align: middle;\n",
       "    }\n",
       "\n",
       "    .dataframe tbody tr th {\n",
       "        vertical-align: top;\n",
       "    }\n",
       "\n",
       "    .dataframe thead th {\n",
       "        text-align: right;\n",
       "    }\n",
       "</style>\n",
       "<table border=\"1\" class=\"dataframe\">\n",
       "  <thead>\n",
       "    <tr style=\"text-align: right;\">\n",
       "      <th></th>\n",
       "      <th>Date</th>\n",
       "      <th>Stock_Price</th>\n",
       "      <th>Previous_Stock_Price</th>\n",
       "      <th>moving_average</th>\n",
       "    </tr>\n",
       "  </thead>\n",
       "  <tbody>\n",
       "    <tr>\n",
       "      <th>0</th>\n",
       "      <td>2001-01-01</td>\n",
       "      <td>0.113007</td>\n",
       "      <td>NaN</td>\n",
       "      <td>NaN</td>\n",
       "    </tr>\n",
       "    <tr>\n",
       "      <th>1</th>\n",
       "      <td>2001-01-02</td>\n",
       "      <td>-0.306491</td>\n",
       "      <td>0.113007</td>\n",
       "      <td>NaN</td>\n",
       "    </tr>\n",
       "    <tr>\n",
       "      <th>2</th>\n",
       "      <td>2001-01-03</td>\n",
       "      <td>-1.935586</td>\n",
       "      <td>-0.306491</td>\n",
       "      <td>-0.709690</td>\n",
       "    </tr>\n",
       "    <tr>\n",
       "      <th>3</th>\n",
       "      <td>2001-01-04</td>\n",
       "      <td>0.936163</td>\n",
       "      <td>-1.935586</td>\n",
       "      <td>-0.435305</td>\n",
       "    </tr>\n",
       "    <tr>\n",
       "      <th>4</th>\n",
       "      <td>2001-01-05</td>\n",
       "      <td>-0.468973</td>\n",
       "      <td>0.936163</td>\n",
       "      <td>-0.489465</td>\n",
       "    </tr>\n",
       "  </tbody>\n",
       "</table>\n",
       "</div>"
      ],
      "text/plain": [
       "        Date  Stock_Price  Previous_Stock_Price  moving_average\n",
       "0 2001-01-01     0.113007                   NaN             NaN\n",
       "1 2001-01-02    -0.306491              0.113007             NaN\n",
       "2 2001-01-03    -1.935586             -0.306491       -0.709690\n",
       "3 2001-01-04     0.936163             -1.935586       -0.435305\n",
       "4 2001-01-05    -0.468973              0.936163       -0.489465"
      ]
     },
     "execution_count": 15,
     "metadata": {},
     "output_type": "execute_result"
    }
   ],
   "source": [
    "## Adding rolling mean (based of three days)\n",
    "data['moving_average'] = data['Stock_Price'].rolling(window = 3).mean()\n",
    "data.head()"
   ]
  }
 ],
 "metadata": {
  "kernelspec": {
   "display_name": "conda_python3",
   "language": "python",
   "name": "conda_python3"
  },
  "language_info": {
   "codemirror_mode": {
    "name": "ipython",
    "version": 3
   },
   "file_extension": ".py",
   "mimetype": "text/x-python",
   "name": "python",
   "nbconvert_exporter": "python",
   "pygments_lexer": "ipython3",
   "version": "3.6.13"
  }
 },
 "nbformat": 4,
 "nbformat_minor": 5
}
