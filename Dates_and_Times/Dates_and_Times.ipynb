{
 "cells": [
  {
   "cell_type": "code",
   "execution_count": 2,
   "id": "fa107185",
   "metadata": {},
   "outputs": [],
   "source": [
    "import pandas as pd\n",
    "import numpy as np"
   ]
  },
  {
   "cell_type": "markdown",
   "id": "fec96b6d",
   "metadata": {},
   "source": [
    "# Converting Strings to Dates"
   ]
  },
  {
   "cell_type": "code",
   "execution_count": 3,
   "id": "714f0f60",
   "metadata": {},
   "outputs": [
    {
     "data": {
      "text/plain": [
       "DatetimeIndex(['2005-03-13 23:35:00'], dtype='datetime64[ns]', freq=None)"
      ]
     },
     "execution_count": 3,
     "metadata": {},
     "output_type": "execute_result"
    }
   ],
   "source": [
    "## Creating strings\n",
    "date_strings = np.array(['13-03-2005 11:35 PM'])\n",
    "\n",
    "## Converting to datetimes\n",
    "pd.to_datetime(date_strings, format = '%d-%m-%Y %I:%M %p')"
   ]
  },
  {
   "cell_type": "markdown",
   "id": "adc97aa1",
   "metadata": {},
   "source": [
    "# Handling Time Zones"
   ]
  },
  {
   "cell_type": "code",
   "execution_count": 5,
   "id": "f19d7f8e",
   "metadata": {},
   "outputs": [
    {
     "data": {
      "text/plain": [
       "Timestamp('2018-05-24 01:01:01+0100', tz='Europe/London')"
      ]
     },
     "execution_count": 5,
     "metadata": {},
     "output_type": "execute_result"
    }
   ],
   "source": [
    "## Creating time in London\n",
    "pd.Timestamp('2018-05-24 01:01:01', tz = 'Europe/London')"
   ]
  },
  {
   "cell_type": "markdown",
   "id": "719c8813",
   "metadata": {},
   "source": [
    "# Selecting Dates and Times"
   ]
  },
  {
   "cell_type": "code",
   "execution_count": null,
   "id": "51e693e8",
   "metadata": {},
   "outputs": [],
   "source": []
  }
 ],
 "metadata": {
  "kernelspec": {
   "display_name": "conda_python3",
   "language": "python",
   "name": "conda_python3"
  },
  "language_info": {
   "codemirror_mode": {
    "name": "ipython",
    "version": 3
   },
   "file_extension": ".py",
   "mimetype": "text/x-python",
   "name": "python",
   "nbconvert_exporter": "python",
   "pygments_lexer": "ipython3",
   "version": "3.6.13"
  }
 },
 "nbformat": 4,
 "nbformat_minor": 5
}
