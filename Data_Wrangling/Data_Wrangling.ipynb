{
 "cells": [
  {
   "cell_type": "code",
   "execution_count": null,
   "id": "0ee84f60",
   "metadata": {},
   "outputs": [],
   "source": [
    "import pandas as pd\n",
    "\n",
    "## Defining two data-frames\n",
    "data_1 = pd.DataFrame({'id': ['b', 'b', 'a', 'c', 'a', 'a', 'b'], 'x': range(7)})\n",
    "data_2 = pd.DataFrame({'id': ['a', 'b', 'd'], 'y': range(3)})\n",
    "\n",
    "################\n",
    "## Inner join ##\n",
    "################\n",
    "\n",
    "data_inner = pd.merge()"
   ]
  }
 ],
 "metadata": {
  "kernelspec": {
   "display_name": "conda_python3",
   "language": "python",
   "name": "conda_python3"
  },
  "language_info": {
   "codemirror_mode": {
    "name": "ipython",
    "version": 3
   },
   "file_extension": ".py",
   "mimetype": "text/x-python",
   "name": "python",
   "nbconvert_exporter": "python",
   "pygments_lexer": "ipython3",
   "version": "3.6.13"
  }
 },
 "nbformat": 4,
 "nbformat_minor": 5
}
